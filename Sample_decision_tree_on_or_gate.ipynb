{
 "cells": [
  {
   "cell_type": "code",
   "execution_count": 48,
   "id": "1c295153",
   "metadata": {},
   "outputs": [],
   "source": [
    "import pandas as pd\n",
    "import numpy as np\n"
   ]
  },
  {
   "cell_type": "code",
   "execution_count": 49,
   "id": "a1a44ef4",
   "metadata": {},
   "outputs": [],
   "source": [
    "# 0 = False, 1= True\n",
    "data = pd.DataFrame({\"X1\" : [0,0,1,1],\n",
    "             \"X2\" : [0,1,0,1],\n",
    "             \"Y\" : [0,1,1,1]})"
   ]
  },
  {
   "cell_type": "code",
   "execution_count": 50,
   "id": "ab58e88b",
   "metadata": {},
   "outputs": [
    {
     "data": {
      "text/html": [
       "<div>\n",
       "<style scoped>\n",
       "    .dataframe tbody tr th:only-of-type {\n",
       "        vertical-align: middle;\n",
       "    }\n",
       "\n",
       "    .dataframe tbody tr th {\n",
       "        vertical-align: top;\n",
       "    }\n",
       "\n",
       "    .dataframe thead th {\n",
       "        text-align: right;\n",
       "    }\n",
       "</style>\n",
       "<table border=\"1\" class=\"dataframe\">\n",
       "  <thead>\n",
       "    <tr style=\"text-align: right;\">\n",
       "      <th></th>\n",
       "      <th>X1</th>\n",
       "      <th>X2</th>\n",
       "      <th>Y</th>\n",
       "    </tr>\n",
       "  </thead>\n",
       "  <tbody>\n",
       "    <tr>\n",
       "      <th>0</th>\n",
       "      <td>0</td>\n",
       "      <td>0</td>\n",
       "      <td>0</td>\n",
       "    </tr>\n",
       "    <tr>\n",
       "      <th>1</th>\n",
       "      <td>0</td>\n",
       "      <td>1</td>\n",
       "      <td>1</td>\n",
       "    </tr>\n",
       "    <tr>\n",
       "      <th>2</th>\n",
       "      <td>1</td>\n",
       "      <td>0</td>\n",
       "      <td>1</td>\n",
       "    </tr>\n",
       "    <tr>\n",
       "      <th>3</th>\n",
       "      <td>1</td>\n",
       "      <td>1</td>\n",
       "      <td>1</td>\n",
       "    </tr>\n",
       "  </tbody>\n",
       "</table>\n",
       "</div>"
      ],
      "text/plain": [
       "   X1  X2  Y\n",
       "0   0   0  0\n",
       "1   0   1  1\n",
       "2   1   0  1\n",
       "3   1   1  1"
      ]
     },
     "execution_count": 50,
     "metadata": {},
     "output_type": "execute_result"
    }
   ],
   "source": [
    "data"
   ]
  },
  {
   "cell_type": "code",
   "execution_count": 51,
   "id": "7db72944",
   "metadata": {},
   "outputs": [],
   "source": [
    "# initial_entropy rootnode\n",
    "def entropy_calculation(y):\n",
    "    entropy = 0\n",
    "    for i in set(y):\n",
    "#         print(f\"label class count {i}:\",sum(y == i))\n",
    "        entropy -= ((sum(y == i) / len(y)) * np.log2(sum(y == i) / len(y)))  \n",
    "    return entropy"
   ]
  },
  {
   "cell_type": "code",
   "execution_count": 52,
   "id": "97e498ad",
   "metadata": {},
   "outputs": [],
   "source": [
    "def weighted_entropy_calculation(df, y):\n",
    "    df = data[\"X1\"] # taking one feature\n",
    "    weighted_entropy_for_feature = 0\n",
    "    entropy_of_feature = 0\n",
    "    for labels in set(df): # check the labels in the X1 feature\n",
    "        # need to filter the target records w.r.t X1\n",
    "        new_y_with_repect_to_labels = (y[df == labels])\n",
    "        entropy_of_each_label_in_feature = entropy_calculation(new_y_with_repect_to_labels)\n",
    "        entropy_of_feature += entropy_of_each_label_in_feature\n",
    "        # calculate the weighted entropy overall\n",
    "        weighted_entropy_for_feature += (new_y_with_repect_to_labels).count() / len(y) * entropy_of_each_label_in_feature\n",
    "        \n",
    "    return weighted_entropy_for_feature, entropy_of_feature\n",
    "    \n",
    "    \n",
    "    \n",
    "    "
   ]
  },
  {
   "cell_type": "code",
   "execution_count": 53,
   "id": "88f79887",
   "metadata": {},
   "outputs": [],
   "source": [
    "def each_level_information(initial_gain_before_taking_that_feature, df, y):\n",
    "    weighted_entropy_for_feature, entropy_of_feature = weighted_entropy_calculation(df, y)\n",
    "    # gain = parent_entropy(entropy before taking the feature) - entropy_at_each_feature\n",
    "    gain = initial_gain_before_taking_that_feature - weighted_entropy_for_feature\n",
    "#     print(gain)\n",
    "    return gain, weighted_entropy_for_feature\n"
   ]
  },
  {
   "cell_type": "code",
   "execution_count": 54,
   "id": "c5b12337",
   "metadata": {},
   "outputs": [],
   "source": [
    "def dt_implementation(df, y, unused_features, parent_entropy):\n",
    "    #base case\n",
    "    if (len(unused_features)==0) or (len(set(y))==1):\n",
    "        return\n",
    "    \n",
    "    # need to initiate the best feature for the split\n",
    "    best_feature = \"\"\n",
    "    final_gain = -1\n",
    "    final_entropy = 0\n",
    "    \n",
    "    # need to calculate the entropy and gain ratio for all the feature best one need to choose for splitting criteria\n",
    "    for feature in unused_features:\n",
    "        gain, weighted_entropy_for_feature = each_level_information(parent_entropy, df[feature], y)\n",
    "        if gain > final_gain:\n",
    "            final_gain=gain\n",
    "            best_feature=feature\n",
    "            final_entropy=weighted_entropy_for_feature\n",
    "            \n",
    "    unused_features.remove(best_feature)\n",
    "    # print it out\n",
    "    for i in set(y):\n",
    "        print(\"Count of\", i, \"=\", sum(y==i))\n",
    "    print(\"Current Entropy is =\", final_entropy)\n",
    "    if final_entropy==0:\n",
    "        print('Reached leaf node')\n",
    "    else:\n",
    "        print(\"Splitting on feature\", best_feature, \"with gain ratio\", final_gain)\n",
    "    print()\n",
    "    \n",
    "    # recurvelly call after splitting with that feature\n",
    "    for labels in set(df[best_feature]):\n",
    "        dt_implementation(df[df[best_feature] == labels], y[df[best_feature] == labels], unused_features, final_entropy)"
   ]
  },
  {
   "cell_type": "code",
   "execution_count": 55,
   "id": "295e6f28",
   "metadata": {},
   "outputs": [],
   "source": [
    "y = (data.Y)\n",
    "unused_features = set(data.columns)\n",
    "df = data.drop('Y', axis=1)\n",
    "parent_entropy = entropy_calculation(y)"
   ]
  },
  {
   "cell_type": "code",
   "execution_count": 56,
   "id": "4b2695a8",
   "metadata": {},
   "outputs": [
    {
     "name": "stdout",
     "output_type": "stream",
     "text": [
      "Count of 0 = 1\n",
      "Count of 1 = 3\n",
      "Current Entropy is = 0.5\n",
      "Splitting on feature X2 with gain ratio 0.31127812445913283\n",
      "\n",
      "Count of 0 = 1\n",
      "Count of 1 = 1\n",
      "Current Entropy is = 0.0\n",
      "Reached leaf node\n",
      "\n"
     ]
    }
   ],
   "source": [
    "dt_implementation(data, y, unused_features, parent_entropy)"
   ]
  },
  {
   "cell_type": "code",
   "execution_count": null,
   "id": "456475de",
   "metadata": {},
   "outputs": [],
   "source": []
  }
 ],
 "metadata": {
  "kernelspec": {
   "display_name": "Python 3",
   "language": "python",
   "name": "python3"
  },
  "language_info": {
   "codemirror_mode": {
    "name": "ipython",
    "version": 3
   },
   "file_extension": ".py",
   "mimetype": "text/x-python",
   "name": "python",
   "nbconvert_exporter": "python",
   "pygments_lexer": "ipython3",
   "version": "3.8.8"
  }
 },
 "nbformat": 4,
 "nbformat_minor": 5
}
